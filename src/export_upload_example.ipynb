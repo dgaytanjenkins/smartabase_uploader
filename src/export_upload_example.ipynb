{
 "cells": [
  {
   "cell_type": "code",
   "execution_count": 16,
   "id": "18d086a9",
   "metadata": {},
   "outputs": [
    {
     "name": "stdout",
     "output_type": "stream",
     "text": [
      "The autoreload extension is already loaded. To reload it, use:\n",
      "  %reload_ext autoreload\n"
     ]
    }
   ],
   "source": [
    "import smartabase_utilities as smu\n",
    "import catapult_utilites as cu\n",
    "import vert_utilities as vu\n",
    "\n",
    "import pandas as pd\n",
    "import numpy as np\n",
    "import pathlib\n",
    "\n",
    "%load_ext autoreload\n",
    "%autoreload 2"
   ]
  },
  {
   "cell_type": "code",
   "execution_count": 61,
   "id": "6fd4e836",
   "metadata": {},
   "outputs": [],
   "source": [
    "dir_path = pathlib.Path.home()/'Documents'/'automate_boring_stuff'/'vert_uploader'\n",
    "results_path = dir_path/'results'\n",
    "download_path = pathlib.Path.home()/'Downloads'"
   ]
  },
  {
   "cell_type": "code",
   "execution_count": 62,
   "id": "f17bf599",
   "metadata": {},
   "outputs": [],
   "source": [
    "vert_handler = vu.vert_export_handler(save_csv=True)"
   ]
  },
  {
   "cell_type": "code",
   "execution_count": 63,
   "id": "66580727",
   "metadata": {},
   "outputs": [],
   "source": [
    "vert_handler.load_vert_data()"
   ]
  },
  {
   "cell_type": "code",
   "execution_count": 64,
   "id": "10fc0ba1",
   "metadata": {},
   "outputs": [
    {
     "data": {
      "text/html": [
       "<div>\n",
       "<style scoped>\n",
       "    .dataframe tbody tr th:only-of-type {\n",
       "        vertical-align: middle;\n",
       "    }\n",
       "\n",
       "    .dataframe tbody tr th {\n",
       "        vertical-align: top;\n",
       "    }\n",
       "\n",
       "    .dataframe thead th {\n",
       "        text-align: right;\n",
       "    }\n",
       "</style>\n",
       "<table border=\"1\" class=\"dataframe\">\n",
       "  <thead>\n",
       "    <tr style=\"text-align: right;\">\n",
       "      <th></th>\n",
       "      <th>Period Number</th>\n",
       "      <th>Date</th>\n",
       "      <th>PLAYER NAME</th>\n",
       "      <th>POSITION</th>\n",
       "      <th>% HARD LANDINGS (&gt; 15G)</th>\n",
       "      <th>JUMPS PER ACTIVE MINUTE</th>\n",
       "      <th>ENERGY</th>\n",
       "      <th>MAX ENERGY</th>\n",
       "      <th>% MAX ENERGY</th>\n",
       "      <th>POWER</th>\n",
       "      <th>...</th>\n",
       "      <th>STRESS</th>\n",
       "      <th>ACTIVE MINS</th>\n",
       "      <th>JUMPS</th>\n",
       "      <th>JUMPS 15+</th>\n",
       "      <th>JUMPS 20+</th>\n",
       "      <th>HIGHEST JUMP (In)</th>\n",
       "      <th>AVE HI JUMP (In)</th>\n",
       "      <th>% OF MAX</th>\n",
       "      <th>MAX VERT (In)</th>\n",
       "      <th>Period Name</th>\n",
       "    </tr>\n",
       "  </thead>\n",
       "  <tbody>\n",
       "    <tr>\n",
       "      <th>0</th>\n",
       "      <td>0</td>\n",
       "      <td>08/11/2025</td>\n",
       "      <td>Alanah Clemente</td>\n",
       "      <td>OPP</td>\n",
       "      <td>26.890756</td>\n",
       "      <td>0.943396</td>\n",
       "      <td>4827.146444</td>\n",
       "      <td>0.0</td>\n",
       "      <td>0.0</td>\n",
       "      <td>10.428684</td>\n",
       "      <td>...</td>\n",
       "      <td>19.381443</td>\n",
       "      <td>159.0</td>\n",
       "      <td>150.0</td>\n",
       "      <td>109.0</td>\n",
       "      <td>63.0</td>\n",
       "      <td>27.930000</td>\n",
       "      <td>23.611250</td>\n",
       "      <td>0.0</td>\n",
       "      <td>0.0</td>\n",
       "      <td>Session</td>\n",
       "    </tr>\n",
       "    <tr>\n",
       "      <th>1</th>\n",
       "      <td>1</td>\n",
       "      <td>08/11/2025</td>\n",
       "      <td>Alanah Clemente</td>\n",
       "      <td>OPP</td>\n",
       "      <td>0.000000</td>\n",
       "      <td>0.250000</td>\n",
       "      <td>28.322816</td>\n",
       "      <td>0.0</td>\n",
       "      <td>0.0</td>\n",
       "      <td>5.698406</td>\n",
       "      <td>...</td>\n",
       "      <td>14.285714</td>\n",
       "      <td>8.0</td>\n",
       "      <td>2.0</td>\n",
       "      <td>0.0</td>\n",
       "      <td>0.0</td>\n",
       "      <td>9.850000</td>\n",
       "      <td>9.143750</td>\n",
       "      <td>0.0</td>\n",
       "      <td>0.0</td>\n",
       "      <td>Warm-Up</td>\n",
       "    </tr>\n",
       "    <tr>\n",
       "      <th>2</th>\n",
       "      <td>2</td>\n",
       "      <td>08/11/2025</td>\n",
       "      <td>Alanah Clemente</td>\n",
       "      <td>OPP</td>\n",
       "      <td>20.588235</td>\n",
       "      <td>1.545455</td>\n",
       "      <td>270.328132</td>\n",
       "      <td>0.0</td>\n",
       "      <td>0.0</td>\n",
       "      <td>9.305929</td>\n",
       "      <td>...</td>\n",
       "      <td>20.937500</td>\n",
       "      <td>11.0</td>\n",
       "      <td>17.0</td>\n",
       "      <td>8.0</td>\n",
       "      <td>0.0</td>\n",
       "      <td>19.770000</td>\n",
       "      <td>19.440001</td>\n",
       "      <td>0.0</td>\n",
       "      <td>0.0</td>\n",
       "      <td>Warmup Circuit</td>\n",
       "    </tr>\n",
       "    <tr>\n",
       "      <th>3</th>\n",
       "      <td>3</td>\n",
       "      <td>08/11/2025</td>\n",
       "      <td>Alanah Clemente</td>\n",
       "      <td>OPP</td>\n",
       "      <td>14.285714</td>\n",
       "      <td>0.384615</td>\n",
       "      <td>188.403851</td>\n",
       "      <td>0.0</td>\n",
       "      <td>0.0</td>\n",
       "      <td>6.340211</td>\n",
       "      <td>...</td>\n",
       "      <td>17.824773</td>\n",
       "      <td>13.0</td>\n",
       "      <td>5.0</td>\n",
       "      <td>5.0</td>\n",
       "      <td>1.0</td>\n",
       "      <td>22.490000</td>\n",
       "      <td>20.695000</td>\n",
       "      <td>0.0</td>\n",
       "      <td>0.0</td>\n",
       "      <td>Defensive Stations</td>\n",
       "    </tr>\n",
       "    <tr>\n",
       "      <th>4</th>\n",
       "      <td>4</td>\n",
       "      <td>08/11/2025</td>\n",
       "      <td>Alanah Clemente</td>\n",
       "      <td>OPP</td>\n",
       "      <td>38.461538</td>\n",
       "      <td>1.250000</td>\n",
       "      <td>422.658050</td>\n",
       "      <td>0.0</td>\n",
       "      <td>0.0</td>\n",
       "      <td>12.377635</td>\n",
       "      <td>...</td>\n",
       "      <td>23.437500</td>\n",
       "      <td>8.0</td>\n",
       "      <td>10.0</td>\n",
       "      <td>9.0</td>\n",
       "      <td>6.0</td>\n",
       "      <td>23.799999</td>\n",
       "      <td>23.447501</td>\n",
       "      <td>0.0</td>\n",
       "      <td>0.0</td>\n",
       "      <td>Serve Burst</td>\n",
       "    </tr>\n",
       "  </tbody>\n",
       "</table>\n",
       "<p>5 rows × 23 columns</p>\n",
       "</div>"
      ],
      "text/plain": [
       "   Period Number        Date      PLAYER NAME POSITION  \\\n",
       "0              0  08/11/2025  Alanah Clemente      OPP   \n",
       "1              1  08/11/2025  Alanah Clemente      OPP   \n",
       "2              2  08/11/2025  Alanah Clemente      OPP   \n",
       "3              3  08/11/2025  Alanah Clemente      OPP   \n",
       "4              4  08/11/2025  Alanah Clemente      OPP   \n",
       "\n",
       "   % HARD LANDINGS (> 15G)  JUMPS PER ACTIVE MINUTE       ENERGY  MAX ENERGY  \\\n",
       "0                26.890756                 0.943396  4827.146444         0.0   \n",
       "1                 0.000000                 0.250000    28.322816         0.0   \n",
       "2                20.588235                 1.545455   270.328132         0.0   \n",
       "3                14.285714                 0.384615   188.403851         0.0   \n",
       "4                38.461538                 1.250000   422.658050         0.0   \n",
       "\n",
       "   % MAX ENERGY      POWER  ...     STRESS  ACTIVE MINS  JUMPS  JUMPS 15+  \\\n",
       "0           0.0  10.428684  ...  19.381443        159.0  150.0      109.0   \n",
       "1           0.0   5.698406  ...  14.285714          8.0    2.0        0.0   \n",
       "2           0.0   9.305929  ...  20.937500         11.0   17.0        8.0   \n",
       "3           0.0   6.340211  ...  17.824773         13.0    5.0        5.0   \n",
       "4           0.0  12.377635  ...  23.437500          8.0   10.0        9.0   \n",
       "\n",
       "   JUMPS 20+  HIGHEST JUMP (In)  AVE HI JUMP (In)  % OF MAX  MAX VERT (In)  \\\n",
       "0       63.0          27.930000         23.611250       0.0            0.0   \n",
       "1        0.0           9.850000          9.143750       0.0            0.0   \n",
       "2        0.0          19.770000         19.440001       0.0            0.0   \n",
       "3        1.0          22.490000         20.695000       0.0            0.0   \n",
       "4        6.0          23.799999         23.447501       0.0            0.0   \n",
       "\n",
       "          Period Name  \n",
       "0             Session  \n",
       "1             Warm-Up  \n",
       "2      Warmup Circuit  \n",
       "3  Defensive Stations  \n",
       "4         Serve Burst  \n",
       "\n",
       "[5 rows x 23 columns]"
      ]
     },
     "execution_count": 64,
     "metadata": {},
     "output_type": "execute_result"
    }
   ],
   "source": [
    "vert_handler.upload_df.head()"
   ]
  },
  {
   "cell_type": "code",
   "execution_count": 65,
   "id": "206f664d",
   "metadata": {},
   "outputs": [
    {
     "data": {
      "text/plain": [
       "array(['08/11/2025'], dtype=object)"
      ]
     },
     "execution_count": 65,
     "metadata": {},
     "output_type": "execute_result"
    }
   ],
   "source": [
    "vert_handler.upload_df.Date.unique()"
   ]
  },
  {
   "cell_type": "code",
   "execution_count": 66,
   "id": "e92b150a",
   "metadata": {},
   "outputs": [
    {
     "data": {
      "text/plain": [
       "WindowsPath('C:/Users/dgaytanj/Downloads/20250811.csv')"
      ]
     },
     "execution_count": 66,
     "metadata": {},
     "output_type": "execute_result"
    }
   ],
   "source": [
    "vert_handler.upload_file_path"
   ]
  },
  {
   "cell_type": "code",
   "execution_count": 67,
   "id": "6868853c",
   "metadata": {},
   "outputs": [],
   "source": [
    "sm_importer = smu.smartabase_import_data(\n",
    "    vert_handler.upload_file_path,\n",
    "    \"Mon, 08-11-2025\",\n",
    "    '3:00 PM',\n",
    "    event_form=\"Vert\",\n",
    "    player_column='PLAYER NAME',\n",
    "    )"
   ]
  },
  {
   "cell_type": "code",
   "execution_count": 68,
   "id": "a412a480",
   "metadata": {},
   "outputs": [],
   "source": [
    "sm_importer.setup_driver()"
   ]
  },
  {
   "cell_type": "code",
   "execution_count": 69,
   "id": "083177ef",
   "metadata": {},
   "outputs": [],
   "source": [
    "sm_importer.login()"
   ]
  },
  {
   "cell_type": "code",
   "execution_count": 70,
   "id": "399409d3",
   "metadata": {},
   "outputs": [],
   "source": [
    "sm_importer.change_group(group = 'volleyball-all',subgroup=\"volleyball-indoor-current\")"
   ]
  },
  {
   "cell_type": "code",
   "execution_count": 77,
   "id": "882b1c87",
   "metadata": {},
   "outputs": [],
   "source": [
    "sm_importer.navigate_to_import()"
   ]
  },
  {
   "cell_type": "code",
   "execution_count": 78,
   "id": "f2836499",
   "metadata": {},
   "outputs": [],
   "source": [
    "sm_importer.select_event()"
   ]
  },
  {
   "cell_type": "code",
   "execution_count": 79,
   "id": "5a6dd692",
   "metadata": {},
   "outputs": [],
   "source": [
    "sm_importer.upload_file()"
   ]
  },
  {
   "cell_type": "code",
   "execution_count": 80,
   "id": "2e0977ad",
   "metadata": {},
   "outputs": [],
   "source": [
    "sm_importer.confirm_athlete_column()"
   ]
  },
  {
   "cell_type": "code",
   "execution_count": 87,
   "id": "999023fd",
   "metadata": {},
   "outputs": [],
   "source": [
    "sm_importer.enter_date_time()"
   ]
  },
  {
   "cell_type": "code",
   "execution_count": 76,
   "id": "d3b43099",
   "metadata": {},
   "outputs": [],
   "source": [
    "sm_importer.finalize_import()"
   ]
  },
  {
   "cell_type": "code",
   "execution_count": 81,
   "id": "78f99465",
   "metadata": {},
   "outputs": [],
   "source": [
    "from selenium import webdriver\n",
    "from selenium.webdriver.common.by import By\n",
    "from selenium.webdriver.common.keys import Keys\n",
    "from selenium.webdriver.support.ui import Select\n",
    "from selenium.webdriver.support.ui import WebDriverWait\n",
    "from selenium.webdriver.common.action_chains import ActionChains\n",
    "from selenium.webdriver.support import expected_conditions as EC\n",
    "import time"
   ]
  },
  {
   "cell_type": "code",
   "execution_count": 82,
   "id": "c097914b",
   "metadata": {},
   "outputs": [],
   "source": [
    "\n",
    "date_col = WebDriverWait(sm_importer.driver, 15).until(\n",
    "            EC.element_to_be_clickable((By.XPATH, \"//select[@class='gwt-ListBox' and @id='dropdown-column-37']\"))\n",
    "        )\n",
    "date_col_select = Select(date_col)\n"
   ]
  },
  {
   "cell_type": "code",
   "execution_count": 83,
   "id": "239eb734",
   "metadata": {},
   "outputs": [
    {
     "data": {
      "text/plain": [
       "['__class__',\n",
       " '__delattr__',\n",
       " '__dict__',\n",
       " '__dir__',\n",
       " '__doc__',\n",
       " '__eq__',\n",
       " '__format__',\n",
       " '__ge__',\n",
       " '__getattribute__',\n",
       " '__getstate__',\n",
       " '__gt__',\n",
       " '__hash__',\n",
       " '__init__',\n",
       " '__init_subclass__',\n",
       " '__le__',\n",
       " '__lt__',\n",
       " '__module__',\n",
       " '__ne__',\n",
       " '__new__',\n",
       " '__reduce__',\n",
       " '__reduce_ex__',\n",
       " '__repr__',\n",
       " '__setattr__',\n",
       " '__sizeof__',\n",
       " '__str__',\n",
       " '__subclasshook__',\n",
       " '__weakref__',\n",
       " '_el',\n",
       " '_escape_string',\n",
       " '_get_longest_token',\n",
       " '_set_selected',\n",
       " '_unset_selected',\n",
       " 'all_selected_options',\n",
       " 'deselect_all',\n",
       " 'deselect_by_index',\n",
       " 'deselect_by_value',\n",
       " 'deselect_by_visible_text',\n",
       " 'first_selected_option',\n",
       " 'is_multiple',\n",
       " 'options',\n",
       " 'select_by_index',\n",
       " 'select_by_value',\n",
       " 'select_by_visible_text']"
      ]
     },
     "execution_count": 83,
     "metadata": {},
     "output_type": "execute_result"
    }
   ],
   "source": [
    "dir(date_col_select)"
   ]
  },
  {
   "cell_type": "code",
   "execution_count": 86,
   "id": "16f5ffcd",
   "metadata": {},
   "outputs": [],
   "source": [
    "date_col_select.select_by_value('')"
   ]
  },
  {
   "cell_type": "code",
   "execution_count": null,
   "id": "9bfffd03",
   "metadata": {},
   "outputs": [],
   "source": []
  }
 ],
 "metadata": {
  "kernelspec": {
   "display_name": "catapult",
   "language": "python",
   "name": "python3"
  },
  "language_info": {
   "codemirror_mode": {
    "name": "ipython",
    "version": 3
   },
   "file_extension": ".py",
   "mimetype": "text/x-python",
   "name": "python",
   "nbconvert_exporter": "python",
   "pygments_lexer": "ipython3",
   "version": "3.12.5"
  }
 },
 "nbformat": 4,
 "nbformat_minor": 5
}
